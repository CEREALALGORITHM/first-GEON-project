{
 "cells": [
  {
   "cell_type": "code",
   "execution_count": null,
   "id": "d1608651-4e50-4d84-9c8d-d698b15c52fe",
   "metadata": {},
   "outputs": [],
   "source": [
    "import openai\n",
    "\n",
    "# API 키 설정\n",
    "openai.api_key = \"your_api_key_here\""
   ]
  },
  {
   "cell_type": "code",
   "execution_count": null,
   "id": "e78b9c73-bcad-4a7e-a351-282ac16fd194",
   "metadata": {},
   "outputs": [],
   "source": [
    "def chat_with_gpt(prompt, max_tokens=100, temperature=0.5):\n",
    "    # API 호출을 위한 입력값 설정\n",
    "    input_prompt = {\n",
    "        'messages': [{'role': 'system', 'content': 'You are a helpful assistant.'},\n",
    "                     {'role': 'user', 'content': prompt}]\n",
    "    }\n",
    "\n",
    "    # API 호출 및 결과 처리\n",
    "    response = openai.ChatCompletion.create(\n",
    "        model=\"gpt-4.5-turbo\",\n",
    "        messages=input_prompt,\n",
    "        max_tokens=max_tokens,\n",
    "        temperature=temperature,\n",
    "        return_prompt=True,\n",
    "        n=1,\n",
    "        stop=None,\n",
    "        echo=True,\n",
    "    )\n",
    "\n",
    "    # 응답 내용 추출\n",
    "    message = response.choices[0].message['content']\n",
    "\n",
    "    return message"
   ]
  },
  {
   "cell_type": "code",
   "execution_count": null,
   "id": "32c058a8-25b3-41c3-8632-e534a6d252b3",
   "metadata": {},
   "outputs": [],
   "source": [
    "# 사용자 입력\n",
    "user_prompt = \"안녕하세요, 오늘 날씨 어때요?\"\n",
    "\n",
    "# ChatGPT API 호출 및 결과 출력\n",
    "gpt_response = chat_with_gpt(user_prompt)\n",
    "print(gpt_response)"
   ]
  },
  {
   "cell_type": "code",
   "execution_count": null,
   "id": "4b59b7cd-0cd4-4224-9c16-f5e1d8f619e0",
   "metadata": {},
   "outputs": [],
   "source": []
  },
  {
   "cell_type": "code",
   "execution_count": null,
   "id": "675925c2-fad6-4309-ae50-0d6914afe0f5",
   "metadata": {},
   "outputs": [],
   "source": []
  }
 ],
 "metadata": {
  "kernelspec": {
   "display_name": "Python 3 (ipykernel)",
   "language": "python",
   "name": "python3"
  },
  "language_info": {
   "codemirror_mode": {
    "name": "ipython",
    "version": 3
   },
   "file_extension": ".py",
   "mimetype": "text/x-python",
   "name": "python",
   "nbconvert_exporter": "python",
   "pygments_lexer": "ipython3",
   "version": "3.9.12"
  }
 },
 "nbformat": 4,
 "nbformat_minor": 5
}
