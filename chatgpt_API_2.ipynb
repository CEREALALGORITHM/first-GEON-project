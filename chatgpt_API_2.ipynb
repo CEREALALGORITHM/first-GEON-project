{
 "cells": [
  {
   "cell_type": "code",
   "execution_count": null,
   "id": "7a963042-b065-49ee-b1e1-a06a8ae9813e",
   "metadata": {},
   "outputs": [],
   "source": [
    "import openai\n",
    "\n",
    "# API 키 설정\n",
    "openai.api_key = \"your_api_key_here\"\n",
    "\n",
    "def chat_with_gpt(prompt, max_tokens=100, temperature=0.5):\n",
    "    # API 호출을 위한 입력값 설정\n",
    "    input_prompt = {\n",
    "        'messages': [{'role': 'system', 'content': 'You are a helpful assistant.'},\n",
    "                     {'role': 'user', 'content': prompt}]\n",
    "    }\n",
    "\n",
    "    # API 호출 및 결과 처리\n",
    "    response = openai.ChatCompletion.create(\n",
    "        model=\"gpt-4.5-turbo\",\n",
    "        messages=input_prompt,\n",
    "        max_tokens=max_tokens,\n",
    "        temperature=temperature,\n",
    "        return_prompt=True,\n",
    "        n=1,\n",
    "        stop=None,\n",
    "        echo=True,\n",
    "    )\n",
    "\n",
    "    # 응답 내용 추출\n",
    "    message = response.choices[0].message['content']\n",
    "\n",
    "    return message\n",
    "\n",
    "# 사용자 입력\n",
    "user_prompt = \"안녕하세요, 오늘 날씨 어때요?\"\n",
    "\n",
    "# ChatGPT API 호출 및 결과 출력\n",
    "gpt_response = chat_with_gpt(user_prompt)\n",
    "print(gpt_response)"
   ]
  }
 ],
 "metadata": {
  "kernelspec": {
   "display_name": "Python 3 (ipykernel)",
   "language": "python",
   "name": "python3"
  },
  "language_info": {
   "codemirror_mode": {
    "name": "ipython",
    "version": 3
   },
   "file_extension": ".py",
   "mimetype": "text/x-python",
   "name": "python",
   "nbconvert_exporter": "python",
   "pygments_lexer": "ipython3",
   "version": "3.9.12"
  }
 },
 "nbformat": 4,
 "nbformat_minor": 5
}
